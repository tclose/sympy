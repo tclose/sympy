{
 "cells": [
  {
   "cell_type": "markdown",
   "metadata": {},
   "source": [
    "## Integration over Polytopes"
   ]
  },
  {
   "cell_type": "markdown",
   "metadata": {
    "collapsed": true
   },
   "source": [
    "#### Extra dependencies : matplotlib (if using methods : plot_polytope and plot_polynomial) "
   ]
  },
  {
   "cell_type": "code",
   "execution_count": null,
   "metadata": {
    "collapsed": false
   },
   "outputs": [],
   "source": [
    "from sympy import sqrt\n",
    "from sympy.abc import x, y, z\n",
    "from sympy.geometry import *\n",
    "from sympy.integrals.intpoly import *\n"
   ]
  },
  {
   "cell_type": "markdown",
   "metadata": {},
   "source": [
    "## Methods : "
   ]
  },
  {
   "cell_type": "markdown",
   "metadata": {
    "collapsed": true
   },
   "source": [
    "### polytope_integrate(poly, expr, **kwargs) :\n",
    "    Pre-processes the input data for integrating univariate/bivariate polynomials over 2-Polytopes.\n",
    "    \n",
    "    poly(Polygon) : 2-Polytope\n",
    "    expr(SymPy expression) : uni/bi-variate polynomial\n",
    "    \n",
    "    Optional Parameters\n",
    "    clockwise(Boolean) : If user is not sure about orientation of vertices and wants to clockwise sort the points.\n",
    "    max_degree(Integer) : Maximum degree of any monomial of the input polynomial.\n",
    "     \n",
    "   #### Examples :"
   ]
  },
  {
   "cell_type": "code",
   "execution_count": null,
   "metadata": {
    "collapsed": false
   },
   "outputs": [],
   "source": [
    "triangle = Polygon(Point(0,0), Point(1,1), Point(1,0))\n",
    "plot_polytope(triangle)\n",
    "print(\"Area of Triangle with vertices : (0,0), (1,1), (1,0) : \", polytope_integrate(triangle, 1))\n",
    "print(\"x*y integrated over Triangle with vertices : (0,0), (1,1), (1,0) : \", polytope_integrate(triangle, x*y),\"\\n\")\n",
    "\n",
    "hexagon = Polygon(Point(0, 0), Point(-sqrt(3) / 2, 0.5),\n",
    "                  Point(-sqrt(3) / 2, 3 / 2), Point(0, 2),\n",
    "                  Point(sqrt(3) / 2, 3 / 2), Point(sqrt(3) / 2, 0.5))\n",
    "plot_polytope(hexagon)\n",
    "print(\"Area of regular hexagon with unit side length  : \", polytope_integrate(hexagon, 1))\n",
    "print(\"x + y**2 integrated over regular hexagon with unit side length  : \", polytope_integrate(hexagon, x + y**2))\n",
    "\n",
    "polys = [1, x, y, x*y]\n",
    "print(\"1, x, y, x*y integrated over hexagon : \", polytope_integrate(hexagon, polys, max_degree=2))"
   ]
  },
  {
   "cell_type": "markdown",
   "metadata": {},
   "source": [
    "### integration_reduction(facets, index, a, b, expr, dims, degree) :\n",
    "    facets : List of facets that decide the region enclose by 2-Polytope.\n",
    "    index : The index of the facet with respect to which the integral is supposed to be found.\n",
    "    a, b : Hyperplane parameters corresponding to facets.\n",
    "    expr : Uni/Bi-variate Polynomial\n",
    "    dims : List of symbols denoting axes\n",
    "    degree : Degree of the homogeneous polynoimal(expr)\n",
    "    \n",
    "    This is a helper function for polytope_integrate. It relates the result of the integral of a polynomial over a\n",
    "    d-dimensional entity to the result of the same integral of that polynomial over the (d - 1)-dimensional \n",
    "    facet[index].\n",
    "    \n",
    "    For the 2D case, surface integral --> line integrals --> evaluation of polynomial at vertices of line segments\n",
    "    For the 3D case, volume integral --> 2D use case\n",
    "    \n",
    "    The only minor limitation is that some lines of code are 2D specific, but that can be easily changed. Note that\n",
    "    this function is a helper one and works for a facet which bounds the polytope(i.e. the intersection point with the\n",
    "    other facets is required), not for an independent line.\n",
    "    \n",
    "   #### Examples:"
   ]
  },
  {
   "cell_type": "code",
   "execution_count": null,
   "metadata": {
    "collapsed": false
   },
   "outputs": [],
   "source": [
    "facets = [Segment2D(Point(0, 0), Point(1, 1)), Segment2D(Point(1, 1), Point(1, 0)), Segment2D(Point(0, 0), Point(1, 0))]\n",
    "print(integration_reduction(facets, 0, (0, 1), 0, 1, [x, y], 0))\n",
    "print(integration_reduction(facets, 1, (0, 1), 0, 1, [x, y], 0))\n",
    "print(integration_reduction(facets, 2, (0, 1), 0, 1, [x, y], 0))"
   ]
  },
  {
   "cell_type": "markdown",
   "metadata": {},
   "source": [
    "### hyperplane_parameters(poly) :\n",
    "    poly : 2-Polytope\n",
    "    \n",
    "    Returns the list of hyperplane parameters for facets of the polygon.\n",
    "    \n",
    "    Limitation : 2D specific.\n",
    "   #### Examples:"
   ]
  },
  {
   "cell_type": "code",
   "execution_count": null,
   "metadata": {
    "collapsed": false
   },
   "outputs": [],
   "source": [
    "triangle = Polygon(Point(0,0), Point(1,1), Point(1,0))\n",
    "hyperplane_parameters(triangle)"
   ]
  },
  {
   "cell_type": "markdown",
   "metadata": {},
   "source": [
    "### best_origin(a, b, lineseg, expr) :\n",
    "    a, b : Line parameters of the line-segment\n",
    "    expr : Uni/Bi-variate polynomial\n",
    "    \n",
    "    Returns a point on the lineseg whose vector inner product with the divergence of expr yields an expression with \n",
    "    the least maximum total power. This is for reducing the number of computations in the integration reduction call.\n",
    "    \n",
    "    Limitation : 2D specific.\n",
    "    \n",
    "   #### Examples:"
   ]
  },
  {
   "cell_type": "code",
   "execution_count": null,
   "metadata": {
    "collapsed": false
   },
   "outputs": [],
   "source": [
    "print(\"Best origin for x**3*y on x + y = 3 : \", best_origin((1,1), 3, Segment2D(Point(0, 3), Point(3, 0)), x**3*y))\n",
    "print(\"Best origin for x*y**3 on x + y = 3 : \",best_origin((1,1), 3, Segment2D(Point(0, 3), Point(3, 0)), x*y**3))"
   ]
  },
  {
   "cell_type": "markdown",
   "metadata": {},
   "source": [
    "### decompose(expr, separate=False) :\n",
    "    expr : Uni/Bi-variate polynomial.\n",
    "    separate(default : False) : If separate is True then return list of constituting monomials.\n",
    "    \n",
    "    Returns a dictionary of the terms having same total power. This is done to get homogeneous polynomials of\n",
    "    different degrees from the expression.\n",
    "    \n",
    "   #### Examples:"
   ]
  },
  {
   "cell_type": "code",
   "execution_count": null,
   "metadata": {
    "collapsed": false
   },
   "outputs": [],
   "source": [
    "print(decompose(1 + x + x**2 + x*y))\n",
    "print(decompose(x**2 + x + y + 1 + x**3 + x**2*y + y**4 + x**3*y + y**2*x**2))\n",
    "print(decompose(x**2 + x + y + 1 + x**3 + x**2*y + y**4 + x**3*y + y**2*x**2, 1))"
   ]
  },
  {
   "cell_type": "markdown",
   "metadata": {},
   "source": [
    "### norm(expr) :\n",
    "     \n",
    "    point : Tuple/SymPy Point object/Dictionary\n",
    "    \n",
    "    Returns Euclidean norm of the point object.\n",
    "\n",
    "   #### Examples:"
   ]
  },
  {
   "cell_type": "code",
   "execution_count": null,
   "metadata": {
    "collapsed": false
   },
   "outputs": [],
   "source": [
    "print(norm((1, 2)))\n",
    "print(norm(Point(1, 2)))\n",
    "print(norm({x: 3, y: 3, z: 1}))"
   ]
  },
  {
   "cell_type": "markdown",
   "metadata": {},
   "source": [
    "### intersection(lineseg_1, lineseg_2) :\n",
    "     \n",
    "    lineseg_1, lineseg_2 : The input line segements whose intersection is to be found.\n",
    "    \n",
    "    Returns intersection point of two lines of which lineseg_1, lineseg_2 are part of. This function is\n",
    "    called for adjacent line segments so the intersection point is always present with line segment boundaries.\n",
    "\n",
    "   #### Examples:"
   ]
  },
  {
   "cell_type": "code",
   "execution_count": null,
   "metadata": {
    "collapsed": false
   },
   "outputs": [],
   "source": [
    "print(intersection(Segment2D(Point(0, 0), Point(2, 2)), Segment2D(Point(1, 0), Point(0, 1))))\n",
    "print(intersection(Segment2D(Point(2, 0), Point(2, 2)), Segment2D(Point(0, 0), Point(4, 4))))"
   ]
  },
  {
   "cell_type": "markdown",
   "metadata": {},
   "source": [
    "### is_vertex(ent) :\n",
    "     \n",
    "    ent : Geometrical entity to denote a vertex.\n",
    "    \n",
    "    Returns True if ent is a vertex. Currently tuples of length 2 or 3 and SymPy Point object are supported.\n",
    "   #### Examples:"
   ]
  },
  {
   "cell_type": "code",
   "execution_count": null,
   "metadata": {
    "collapsed": false
   },
   "outputs": [],
   "source": [
    "print(is_vertex(Point(2, 8)))\n",
    "print(is_vertex(Point(2, 8, 1)))\n",
    "print(is_vertex((1, 1)))\n",
    "print(is_vertex([2, 9]))\n",
    "print(is_vertex(Polygon(Point(0, 0), Point(1, 1), Point(1, 0))))"
   ]
  },
  {
   "cell_type": "markdown",
   "metadata": {},
   "source": [
    "### plot_polytope(poly) :\n",
    "     \n",
    "    poly : 2-Polytope\n",
    "    \n",
    "    Plots the 2-Polytope. Currently just defers it to plotting module in SymPy which in turn uses matplotlib.\n",
    "        \n",
    "   #### Examples:"
   ]
  },
  {
   "cell_type": "code",
   "execution_count": null,
   "metadata": {
    "collapsed": false
   },
   "outputs": [],
   "source": [
    "hexagon = Polygon(Point(0, 0), Point(-sqrt(3) / 2, 0.5),\n",
    "                  Point(-sqrt(3) / 2, 3 / 2), Point(0, 2),\n",
    "                  Point(sqrt(3) / 2, 3 / 2), Point(sqrt(3) / 2, 0.5))\n",
    "plot_polytope(hexagon)\n",
    "\n",
    "twist = Polygon(Point(-1, 1), Point(0, 0), Point(1, 1), Point(1, -1),\n",
    "                Point(0, 0), Point(-1, -1))\n",
    "plot_polytope(twist)\n"
   ]
  },
  {
   "cell_type": "markdown",
   "metadata": {},
   "source": [
    "### plot_polynomial(expr) :\n",
    "     \n",
    "    expr : The uni/bi-variate polynomial to plot\n",
    "    \n",
    "    Plots the polynomial. Currently just defers it to plotting module in SymPy which in turn uses matplotlib.\n",
    "        \n",
    "   #### Examples:"
   ]
  },
  {
   "cell_type": "code",
   "execution_count": null,
   "metadata": {
    "collapsed": false
   },
   "outputs": [],
   "source": [
    "expr = x**2\n",
    "plot_polynomial(expr)\n",
    "\n",
    "expr = x*y\n",
    "plot_polynomial(expr)"
   ]
  },
  {
   "cell_type": "code",
   "execution_count": null,
   "metadata": {
    "collapsed": true
   },
   "outputs": [],
   "source": []
  }
 ],
 "metadata": {
  "kernelspec": {
   "display_name": "Python 3",
   "language": "python",
   "name": "python3"
  },
  "language_info": {
   "codemirror_mode": {
    "name": "ipython",
    "version": 3
   },
   "file_extension": ".py",
   "mimetype": "text/x-python",
   "name": "python",
   "nbconvert_exporter": "python",
   "pygments_lexer": "ipython3",
   "version": "3.6.0"
  }
 },
 "nbformat": 4,
 "nbformat_minor": 2
}
